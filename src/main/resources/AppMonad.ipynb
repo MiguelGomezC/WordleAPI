{
 "cells": [
  {
   "cell_type": "code",
   "execution_count": null,
   "id": "9f6c2010",
   "metadata": {},
   "outputs": [],
   "source": [
    "object std{\n",
    "    type Function1[A, B] = A => B\n",
    "    type Reader[S, A] = S => A\n",
    "    type State[S, A] = S => (S, A) // ~= S => S & S => A\n",
    "    type StateT[F[_], S, A] = S => F[(S, A)]\n",
    "    type ReaderT[F[_], S, A] = S => F[A]\n",
    "}"
   ]
  },
  {
   "cell_type": "code",
   "execution_count": 6,
   "id": "8206ff10",
   "metadata": {},
   "outputs": [
    {
     "data": {
      "text/plain": [
       "defined \u001b[32mclass\u001b[39m \u001b[36mUser\u001b[39m"
      ]
     },
     "execution_count": 6,
     "metadata": {},
     "output_type": "execute_result"
    }
   ],
   "source": [
    "case class User(name: String, age: Int)"
   ]
  },
  {
   "cell_type": "code",
   "execution_count": null,
   "id": "bd630070",
   "metadata": {},
   "outputs": [],
   "source": [
    "def validateName(name: String): String = if (name.length < 5) throw new Exception(\"\") else name"
   ]
  },
  {
   "cell_type": "code",
   "execution_count": null,
   "id": "bec55511",
   "metadata": {},
   "outputs": [],
   "source": [
    "def validateAge(age: Int): Int = if (age > 55) throw new Exception(\"\") else age"
   ]
  },
  {
   "cell_type": "code",
   "execution_count": null,
   "id": "df22e066",
   "metadata": {},
   "outputs": [],
   "source": [
    "def validateUser(name: String, age: Int): User = {\n",
    "    val nameV: String = validateName(name) ; \n",
    "    val ageV: Int = validateAge(age) ; \n",
    "    return User(nameV, ageV)\n",
    "}\n",
    "    "
   ]
  },
  {
   "cell_type": "code",
   "execution_count": 16,
   "id": "381d6c67",
   "metadata": {},
   "outputs": [
    {
     "name": "stderr",
     "output_type": "stream",
     "text": [
      "cmd16.sc:2: polymorphic expression cannot be instantiated to expected type;\n",
      " found   : [F[_]]F[String]\n",
      " required: String\n",
      "    User(validateName(name), validateAge(age))\n",
      "                     ^cmd16.sc:2: polymorphic expression cannot be instantiated to expected type;\n",
      " found   : [F[_]]F[Int]\n",
      " required: Int\n",
      "    User(validateName(name), validateAge(age))\n",
      "                                        ^Compilation Failed"
     ]
    },
    {
     "ename": "",
     "evalue": "",
     "output_type": "error",
     "traceback": [
      "Compilation Failed"
     ]
    }
   ],
   "source": [
    "def validateUser(name: String, age: Int): User = \n",
    "    User.apply(validateName(name): String, validateAge(age): Int)"
   ]
  },
  {
   "cell_type": "code",
   "execution_count": null,
   "id": "1b13a1ec",
   "metadata": {},
   "outputs": [],
   "source": []
  },
  {
   "cell_type": "code",
   "execution_count": null,
   "id": "31d2f084",
   "metadata": {},
   "outputs": [],
   "source": [
    "def validateName(name: String): Option[String] = if (name.length < 5) None else Some(name)"
   ]
  },
  {
   "cell_type": "code",
   "execution_count": null,
   "id": "af3b5aa7",
   "metadata": {},
   "outputs": [],
   "source": [
    "def validateAge(age: Int): Option[Int] = if (age > 55) None else Some(age)"
   ]
  },
  {
   "cell_type": "code",
   "execution_count": null,
   "id": "21040d38",
   "metadata": {},
   "outputs": [],
   "source": [
    "def validateUser(name: String, age: Int): Option[User] = for {\n",
    "    nameV <- validateName(name)\n",
    "    ageV <- validateAge(age)\n",
    "} yield User(nameV, ageV)\n",
    "    "
   ]
  },
  {
   "cell_type": "code",
   "execution_count": 10,
   "id": "891eec07",
   "metadata": {},
   "outputs": [
    {
     "data": {
      "text/plain": [
       "defined \u001b[32mfunction\u001b[39m \u001b[36mvalidateName\u001b[39m"
      ]
     },
     "execution_count": 10,
     "metadata": {},
     "output_type": "execute_result"
    }
   ],
   "source": [
    "def validateName[F[_]](name: String)(implicit AE: ApplicativeError[F, String]): F[String] = \n",
    "    if (name.length < 5) \"wrong name\".raiseError[F, String] else name.pure[F]"
   ]
  },
  {
   "cell_type": "code",
   "execution_count": 11,
   "id": "ada3bf64",
   "metadata": {},
   "outputs": [
    {
     "data": {
      "text/plain": [
       "defined \u001b[32mfunction\u001b[39m \u001b[36mvalidateAge\u001b[39m"
      ]
     },
     "execution_count": 11,
     "metadata": {},
     "output_type": "execute_result"
    }
   ],
   "source": [
    "def validateAge[F[_]](age: Int)(implicit AE: ApplicativeError[F, String]): F[Int] = \n",
    "    if (age > 55) \"wrong age\".raiseError[F, Int] else age.pure[F]"
   ]
  },
  {
   "cell_type": "code",
   "execution_count": 12,
   "id": "8a689a2a",
   "metadata": {},
   "outputs": [
    {
     "data": {
      "text/plain": [
       "defined \u001b[32mfunction\u001b[39m \u001b[36mvalidateUser\u001b[39m"
      ]
     },
     "execution_count": 12,
     "metadata": {},
     "output_type": "execute_result"
    }
   ],
   "source": [
    "def validateUser[F[_]](name: String, age: Int)(implicit AE: MonadError[F, String]): F[User] = for {\n",
    "    nameV <- validateName[F](name)\n",
    "    ageV <- validateAge[F](age)\n",
    "} yield User(nameV, ageV)\n",
    "    "
   ]
  },
  {
   "cell_type": "code",
   "execution_count": 16,
   "id": "92ea46c9",
   "metadata": {},
   "outputs": [
    {
     "data": {
      "text/plain": [
       "defined \u001b[32mfunction\u001b[39m \u001b[36mvalidateUser\u001b[39m"
      ]
     },
     "execution_count": 16,
     "metadata": {},
     "output_type": "execute_result"
    }
   ],
   "source": [
    "def validateUser[F[_]](name: String, age: Int)(implicit AE: MonadError[F, String]): F[User] =\n",
    "    validateName[F](name).flatMap{ nameV => \n",
    "        validateAge[F](age).flatMap{ ageV => \n",
    "            User(nameV, ageV).pure[F]\n",
    "        }\n",
    "    }\n"
   ]
  },
  {
   "cell_type": "code",
   "execution_count": 15,
   "id": "762fbb70",
   "metadata": {},
   "outputs": [
    {
     "data": {
      "text/plain": [
       "\u001b[36mres14\u001b[39m: \u001b[32mEither\u001b[39m[\u001b[32mString\u001b[39m, \u001b[32mUser\u001b[39m] = \u001b[33mLeft\u001b[39m(\u001b[32m\"wrong age\"\u001b[39m)"
      ]
     },
     "execution_count": 15,
     "metadata": {},
     "output_type": "execute_result"
    }
   ],
   "source": [
    "validateUser[Either[String, ?]](\"dsfsdfsf\", 60)"
   ]
  },
  {
   "cell_type": "code",
   "execution_count": null,
   "id": "1f9a4282",
   "metadata": {},
   "outputs": [],
   "source": []
  },
  {
   "cell_type": "code",
   "execution_count": 18,
   "id": "8a6b1f6f",
   "metadata": {},
   "outputs": [
    {
     "data": {
      "text/plain": [
       "defined \u001b[32mfunction\u001b[39m \u001b[36mvalidateUser\u001b[39m"
      ]
     },
     "execution_count": 18,
     "metadata": {},
     "output_type": "execute_result"
    }
   ],
   "source": [
    "def validateUser[F[_]](name: String, age: Int)(implicit AE: ApplicativeError[F, String]): F[User] =\n",
    "    (validateName[F](name), validateAge[F](age)).mapN(User.apply)\n"
   ]
  },
  {
   "cell_type": "code",
   "execution_count": 19,
   "id": "95f55964",
   "metadata": {},
   "outputs": [
    {
     "data": {
      "text/plain": [
       "defined \u001b[32mtype\u001b[39m \u001b[36mCons\u001b[39m"
      ]
     },
     "execution_count": 19,
     "metadata": {},
     "output_type": "execute_result"
    }
   ],
   "source": [
    "type Id[T] = T\n",
    "type Cons[A, T] = A"
   ]
  },
  {
   "cell_type": "code",
   "execution_count": 21,
   "id": "7b605e49",
   "metadata": {},
   "outputs": [
    {
     "data": {
      "text/plain": [
       "defined \u001b[32mfunction\u001b[39m \u001b[36mconstFlatMap\u001b[39m"
      ]
     },
     "execution_count": 21,
     "metadata": {},
     "output_type": "execute_result"
    }
   ],
   "source": [
    "def constFlatMap[A] = new FlatMap[Cons[A, ?]]{\n",
    "    //def flatMap[T1, T2](fa: Cons[A, T1])(cont: T1 => Cons[A, T2]): Cons[A, T2] = ???\n",
    "    //def tailRecM[T1, T2](a: T1)(f: T1 => Cons[A, Either[T1, T2]]): Cons[A, T2] = ???\n",
    "    //def map[T1, T2](fa: Cons[A, T1])(f: T1 => T2): Cons[A, T2] = ???\n",
    "    def flatMap[T1, T2](fa: A)(cont: T1 => A): A = ???\n",
    "    def tailRecM[T1, T2](a: T1)(f: T1 => A): A = ???\n",
    "    def map[T1, T2](fa: A)(f: T1 => T2): A = ???\n",
    "    \n",
    "}"
   ]
  },
  {
   "cell_type": "code",
   "execution_count": 24,
   "id": "ed95a428",
   "metadata": {},
   "outputs": [
    {
     "data": {
      "text/plain": [
       "defined \u001b[32mfunction\u001b[39m \u001b[36mconstApplicative\u001b[39m"
      ]
     },
     "execution_count": 24,
     "metadata": {},
     "output_type": "execute_result"
    }
   ],
   "source": [
    "def constApplicative[A: Monoid]: Applicative[Cons[A, ?]] = new Applicative[Cons[A, ?]]{\n",
    "    def pure[T1](a: T1): Cons[A, T1] = Monoid[A].empty : A\n",
    "    def ap[T1, T2](f: Cons[A, T1 => T2])(a: Cons[A, T1]): Cons[A, T2] = Monoid[A].combine(f, a) : A\n",
    "}"
   ]
  },
  {
   "cell_type": "code",
   "execution_count": null,
   "id": "c2cb7b8a",
   "metadata": {},
   "outputs": [],
   "source": [
    "def myap[F[_]: Monad, T1, T2](fa: F[T1 => T2])(a: F[T1]): F[T2] = ???"
   ]
  },
  {
   "cell_type": "code",
   "execution_count": null,
   "id": "705f9eb1",
   "metadata": {},
   "outputs": [],
   "source": []
  }
 ],
 "metadata": {
  "kernelspec": {
   "display_name": "Scala",
   "language": "scala",
   "name": "scala"
  },
  "language_info": {
   "codemirror_mode": "text/x-scala",
   "file_extension": ".sc",
   "mimetype": "text/x-scala",
   "name": "scala",
   "nbconvert_exporter": "script",
   "version": "2.13.1"
  }
 },
 "nbformat": 4,
 "nbformat_minor": 5
}
